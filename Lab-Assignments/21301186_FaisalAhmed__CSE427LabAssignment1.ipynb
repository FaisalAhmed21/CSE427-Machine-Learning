{
  "cells": [
    {
      "cell_type": "markdown",
      "metadata": {
        "id": "Ldkfby1LETwB"
      },
      "source": [
        "# **Importing libraries and functions**"
      ]
    },
    {
      "cell_type": "code",
      "execution_count": 86,
      "metadata": {
        "id": "9M5qvZHujUzc"
      },
      "outputs": [],
      "source": [
        "import numpy as np\n",
        "import pandas as pd\n",
        "import matplotlib.pyplot as plt"
      ]
    },
    {
      "cell_type": "markdown",
      "metadata": {
        "id": "-XeUeNfPAxTT"
      },
      "source": [
        "# **Use NumPy library to complete the following tasks:**"
      ]
    },
    {
      "cell_type": "code",
      "execution_count": 89,
      "metadata": {
        "colab": {
          "base_uri": "https://localhost:8080/"
        },
        "id": "B7RjbJ8cjhkH",
        "outputId": "2610ef9e-f999-4f1f-a39d-24e19f156f6c"
      },
      "outputs": [
        {
          "output_type": "stream",
          "name": "stdout",
          "text": [
            "a= [22 91 32 64 19 90 32 22 51 57 90 20 74 15  5 49  9 81 25 73]\n",
            "b= [61 12  7 22 88 38  9 36 12 58 12 21 37 26 40 68 89 16 56 84]\n"
          ]
        }
      ],
      "source": [
        "#1. Create two linear arrays a and b with 20 random elements each ranging from 1 to 100.\n",
        "a = np.random.randint(1, 101, 20)\n",
        "b = np.random.randint(1, 101, 20)\n",
        "print(\"a=\", a)\n",
        "print(\"b=\", b)\n"
      ]
    },
    {
      "cell_type": "code",
      "execution_count": 90,
      "metadata": {
        "colab": {
          "base_uri": "https://localhost:8080/"
        },
        "id": "ByeO5KiJjimP",
        "outputId": "606c9f20-7707-4a07-f4c9-811daae2f49a"
      },
      "outputs": [
        {
          "output_type": "stream",
          "name": "stdout",
          "text": [
            "a= [[22 91 32 64]\n",
            " [19 90 32 22]\n",
            " [51 57 90 20]\n",
            " [74 15  5 49]\n",
            " [ 9 81 25 73]]\n",
            "b= [[61 12  7 22]\n",
            " [88 38  9 36]\n",
            " [12 58 12 21]\n",
            " [37 26 40 68]\n",
            " [89 16 56 84]]\n"
          ]
        }
      ],
      "source": [
        "#2. Now change those linear arrays to two 5x4 matrices.\n",
        "a = a.reshape(5, 4)\n",
        "b = b.reshape(5, 4)\n",
        "print(\"a=\", a)\n",
        "print(\"b=\",b)"
      ]
    },
    {
      "cell_type": "code",
      "execution_count": 91,
      "metadata": {
        "colab": {
          "base_uri": "https://localhost:8080/"
        },
        "id": "nPdzg80SjmR0",
        "outputId": "9109fca7-309a-424a-b091-13d17677573a"
      },
      "outputs": [
        {
          "output_type": "stream",
          "name": "stdout",
          "text": [
            "Product= [[1342 1092  224 1408]\n",
            " [1672 3420  288  792]\n",
            " [ 612 3306 1080  420]\n",
            " [2738  390  200 3332]\n",
            " [ 801 1296 1400 6132]]\n"
          ]
        }
      ],
      "source": [
        "#3. Perform scalar multiplication with matrix a and b.\n",
        "product = a * b\n",
        "print(\"Product=\", product)"
      ]
    },
    {
      "cell_type": "code",
      "execution_count": 92,
      "metadata": {
        "colab": {
          "base_uri": "https://localhost:8080/"
        },
        "id": "-yCQLFGscwix",
        "outputId": "4872fecc-e0f5-4f5d-ec14-16ed2ee6c387"
      },
      "outputs": [
        {
          "output_type": "stream",
          "name": "stdout",
          "text": [
            "Matrix multiplication of a and b:\n",
            " [[ 4066  7986  7270  8812 10582]\n",
            " [ 2947  6172  6294  5819  6771]\n",
            " [ 4865  8184  5418  8329 12171]\n",
            " [ 5807  8891  2847  6660 11222]\n",
            " [ 3302  6723  6639  8403  9629]]\n"
          ]
        }
      ],
      "source": [
        "#4. Now try to modify the matrix b and perform matrix multiplication with a and b to store it in c.\n",
        "b_modified = b.T\n",
        "c = a @ b_modified\n",
        "print(\"Matrix multiplication of a and b:\\n\", c)"
      ]
    },
    {
      "cell_type": "code",
      "execution_count": 93,
      "metadata": {
        "colab": {
          "base_uri": "https://localhost:8080/"
        },
        "id": "pYOrtABxcylw",
        "outputId": "bb2522ec-8751-49da-f5db-673d9c563692"
      },
      "outputs": [
        {
          "output_type": "stream",
          "name": "stdout",
          "text": [
            "Columns 2 and 3 of matrix c:\n",
            " [[7986 7270]\n",
            " [6172 6294]\n",
            " [8184 5418]\n",
            " [8891 2847]\n",
            " [6723 6639]]\n"
          ]
        }
      ],
      "source": [
        "#5. Print only the column 2, 3 of matrix c. Print the whole matrix using slicing technique.\n",
        "print(\"Columns 2 and 3 of matrix c:\\n\", c[:, 1:3])"
      ]
    },
    {
      "cell_type": "code",
      "execution_count": 94,
      "metadata": {
        "colab": {
          "base_uri": "https://localhost:8080/"
        },
        "id": "sOoRh6Yxc2N3",
        "outputId": "0785bda9-876d-4fba-ac74-845f0f74674e"
      },
      "outputs": [
        {
          "output_type": "stream",
          "name": "stdout",
          "text": [
            "Largest element in matrix c: 12171, Index: (2, 4)\n"
          ]
        }
      ],
      "source": [
        "# 6. Find the largest element in the array and its index.\n",
        "max_element = c.max()\n",
        "max_index = np.unravel_index(c.argmax(), c.shape)\n",
        "print(f\"Largest element in matrix c: {max_element}, Index: {max_index}\")"
      ]
    },
    {
      "cell_type": "code",
      "execution_count": 95,
      "metadata": {
        "colab": {
          "base_uri": "https://localhost:8080/"
        },
        "id": "FrR5uSrwc4sX",
        "outputId": "fd7ac3b5-bd4d-476f-e786-81c4c81c2133"
      },
      "outputs": [
        {
          "output_type": "stream",
          "name": "stdout",
          "text": [
            "Matrix c in one-dimensional array:\n",
            " [ 4066  7986  7270  8812 10582  2947  6172  6294  5819  6771  4865  8184\n",
            "  5418  8329 12171  5807  8891  2847  6660 11222  3302  6723  6639  8403\n",
            "  9629]\n"
          ]
        }
      ],
      "source": [
        "# 7. Convert matrix c to a one-dimensional array without modifying the original matrix.\n",
        "one_dimensional_c = c.flatten()\n",
        "print(\"Matrix c in one-dimensional array:\\n\", one_dimensional_c)"
      ]
    },
    {
      "cell_type": "markdown",
      "metadata": {
        "id": "nQ2CJGFqA4rE"
      },
      "source": [
        "# **Use Pandas library to complete the following tasks:**"
      ]
    },
    {
      "cell_type": "code",
      "execution_count": 97,
      "metadata": {
        "id": "I7uaGifwA3n4"
      },
      "outputs": [],
      "source": [
        "#1. Read the CSV file as DataFrames.\n",
        "dataset = pd.read_csv(\"/content/subject_scores.csv\")"
      ]
    },
    {
      "cell_type": "code",
      "execution_count": 98,
      "metadata": {
        "colab": {
          "base_uri": "https://localhost:8080/",
          "height": 206
        },
        "id": "do8GCGv2Btt-",
        "outputId": "847b475f-e58c-41ce-d343-131894834f0b"
      },
      "outputs": [
        {
          "output_type": "execute_result",
          "data": {
            "text/plain": [
              "   Student_ID  Physics  Chemistry  Math  Bilogy\n",
              "0           1     63.0         37  85.0    94.0\n",
              "1           2     52.0         63  34.0    24.0\n",
              "2           3     51.0         25   2.0     7.0\n",
              "3           4     44.0          2   5.0    22.0\n",
              "4           5     50.0         13   1.0    12.0"
            ],
            "text/html": [
              "\n",
              "  <div id=\"df-e4be3192-b98e-449e-a76d-3fd36d5cb085\" class=\"colab-df-container\">\n",
              "    <div>\n",
              "<style scoped>\n",
              "    .dataframe tbody tr th:only-of-type {\n",
              "        vertical-align: middle;\n",
              "    }\n",
              "\n",
              "    .dataframe tbody tr th {\n",
              "        vertical-align: top;\n",
              "    }\n",
              "\n",
              "    .dataframe thead th {\n",
              "        text-align: right;\n",
              "    }\n",
              "</style>\n",
              "<table border=\"1\" class=\"dataframe\">\n",
              "  <thead>\n",
              "    <tr style=\"text-align: right;\">\n",
              "      <th></th>\n",
              "      <th>Student_ID</th>\n",
              "      <th>Physics</th>\n",
              "      <th>Chemistry</th>\n",
              "      <th>Math</th>\n",
              "      <th>Bilogy</th>\n",
              "    </tr>\n",
              "  </thead>\n",
              "  <tbody>\n",
              "    <tr>\n",
              "      <th>0</th>\n",
              "      <td>1</td>\n",
              "      <td>63.0</td>\n",
              "      <td>37</td>\n",
              "      <td>85.0</td>\n",
              "      <td>94.0</td>\n",
              "    </tr>\n",
              "    <tr>\n",
              "      <th>1</th>\n",
              "      <td>2</td>\n",
              "      <td>52.0</td>\n",
              "      <td>63</td>\n",
              "      <td>34.0</td>\n",
              "      <td>24.0</td>\n",
              "    </tr>\n",
              "    <tr>\n",
              "      <th>2</th>\n",
              "      <td>3</td>\n",
              "      <td>51.0</td>\n",
              "      <td>25</td>\n",
              "      <td>2.0</td>\n",
              "      <td>7.0</td>\n",
              "    </tr>\n",
              "    <tr>\n",
              "      <th>3</th>\n",
              "      <td>4</td>\n",
              "      <td>44.0</td>\n",
              "      <td>2</td>\n",
              "      <td>5.0</td>\n",
              "      <td>22.0</td>\n",
              "    </tr>\n",
              "    <tr>\n",
              "      <th>4</th>\n",
              "      <td>5</td>\n",
              "      <td>50.0</td>\n",
              "      <td>13</td>\n",
              "      <td>1.0</td>\n",
              "      <td>12.0</td>\n",
              "    </tr>\n",
              "  </tbody>\n",
              "</table>\n",
              "</div>\n",
              "    <div class=\"colab-df-buttons\">\n",
              "\n",
              "  <div class=\"colab-df-container\">\n",
              "    <button class=\"colab-df-convert\" onclick=\"convertToInteractive('df-e4be3192-b98e-449e-a76d-3fd36d5cb085')\"\n",
              "            title=\"Convert this dataframe to an interactive table.\"\n",
              "            style=\"display:none;\">\n",
              "\n",
              "  <svg xmlns=\"http://www.w3.org/2000/svg\" height=\"24px\" viewBox=\"0 -960 960 960\">\n",
              "    <path d=\"M120-120v-720h720v720H120Zm60-500h600v-160H180v160Zm220 220h160v-160H400v160Zm0 220h160v-160H400v160ZM180-400h160v-160H180v160Zm440 0h160v-160H620v160ZM180-180h160v-160H180v160Zm440 0h160v-160H620v160Z\"/>\n",
              "  </svg>\n",
              "    </button>\n",
              "\n",
              "  <style>\n",
              "    .colab-df-container {\n",
              "      display:flex;\n",
              "      gap: 12px;\n",
              "    }\n",
              "\n",
              "    .colab-df-convert {\n",
              "      background-color: #E8F0FE;\n",
              "      border: none;\n",
              "      border-radius: 50%;\n",
              "      cursor: pointer;\n",
              "      display: none;\n",
              "      fill: #1967D2;\n",
              "      height: 32px;\n",
              "      padding: 0 0 0 0;\n",
              "      width: 32px;\n",
              "    }\n",
              "\n",
              "    .colab-df-convert:hover {\n",
              "      background-color: #E2EBFA;\n",
              "      box-shadow: 0px 1px 2px rgba(60, 64, 67, 0.3), 0px 1px 3px 1px rgba(60, 64, 67, 0.15);\n",
              "      fill: #174EA6;\n",
              "    }\n",
              "\n",
              "    .colab-df-buttons div {\n",
              "      margin-bottom: 4px;\n",
              "    }\n",
              "\n",
              "    [theme=dark] .colab-df-convert {\n",
              "      background-color: #3B4455;\n",
              "      fill: #D2E3FC;\n",
              "    }\n",
              "\n",
              "    [theme=dark] .colab-df-convert:hover {\n",
              "      background-color: #434B5C;\n",
              "      box-shadow: 0px 1px 3px 1px rgba(0, 0, 0, 0.15);\n",
              "      filter: drop-shadow(0px 1px 2px rgba(0, 0, 0, 0.3));\n",
              "      fill: #FFFFFF;\n",
              "    }\n",
              "  </style>\n",
              "\n",
              "    <script>\n",
              "      const buttonEl =\n",
              "        document.querySelector('#df-e4be3192-b98e-449e-a76d-3fd36d5cb085 button.colab-df-convert');\n",
              "      buttonEl.style.display =\n",
              "        google.colab.kernel.accessAllowed ? 'block' : 'none';\n",
              "\n",
              "      async function convertToInteractive(key) {\n",
              "        const element = document.querySelector('#df-e4be3192-b98e-449e-a76d-3fd36d5cb085');\n",
              "        const dataTable =\n",
              "          await google.colab.kernel.invokeFunction('convertToInteractive',\n",
              "                                                    [key], {});\n",
              "        if (!dataTable) return;\n",
              "\n",
              "        const docLinkHtml = 'Like what you see? Visit the ' +\n",
              "          '<a target=\"_blank\" href=https://colab.research.google.com/notebooks/data_table.ipynb>data table notebook</a>'\n",
              "          + ' to learn more about interactive tables.';\n",
              "        element.innerHTML = '';\n",
              "        dataTable['output_type'] = 'display_data';\n",
              "        await google.colab.output.renderOutput(dataTable, element);\n",
              "        const docLink = document.createElement('div');\n",
              "        docLink.innerHTML = docLinkHtml;\n",
              "        element.appendChild(docLink);\n",
              "      }\n",
              "    </script>\n",
              "  </div>\n",
              "\n",
              "\n",
              "<div id=\"df-4207f9f9-8d8d-4ddc-b249-eb93e6de3258\">\n",
              "  <button class=\"colab-df-quickchart\" onclick=\"quickchart('df-4207f9f9-8d8d-4ddc-b249-eb93e6de3258')\"\n",
              "            title=\"Suggest charts\"\n",
              "            style=\"display:none;\">\n",
              "\n",
              "<svg xmlns=\"http://www.w3.org/2000/svg\" height=\"24px\"viewBox=\"0 0 24 24\"\n",
              "     width=\"24px\">\n",
              "    <g>\n",
              "        <path d=\"M19 3H5c-1.1 0-2 .9-2 2v14c0 1.1.9 2 2 2h14c1.1 0 2-.9 2-2V5c0-1.1-.9-2-2-2zM9 17H7v-7h2v7zm4 0h-2V7h2v10zm4 0h-2v-4h2v4z\"/>\n",
              "    </g>\n",
              "</svg>\n",
              "  </button>\n",
              "\n",
              "<style>\n",
              "  .colab-df-quickchart {\n",
              "      --bg-color: #E8F0FE;\n",
              "      --fill-color: #1967D2;\n",
              "      --hover-bg-color: #E2EBFA;\n",
              "      --hover-fill-color: #174EA6;\n",
              "      --disabled-fill-color: #AAA;\n",
              "      --disabled-bg-color: #DDD;\n",
              "  }\n",
              "\n",
              "  [theme=dark] .colab-df-quickchart {\n",
              "      --bg-color: #3B4455;\n",
              "      --fill-color: #D2E3FC;\n",
              "      --hover-bg-color: #434B5C;\n",
              "      --hover-fill-color: #FFFFFF;\n",
              "      --disabled-bg-color: #3B4455;\n",
              "      --disabled-fill-color: #666;\n",
              "  }\n",
              "\n",
              "  .colab-df-quickchart {\n",
              "    background-color: var(--bg-color);\n",
              "    border: none;\n",
              "    border-radius: 50%;\n",
              "    cursor: pointer;\n",
              "    display: none;\n",
              "    fill: var(--fill-color);\n",
              "    height: 32px;\n",
              "    padding: 0;\n",
              "    width: 32px;\n",
              "  }\n",
              "\n",
              "  .colab-df-quickchart:hover {\n",
              "    background-color: var(--hover-bg-color);\n",
              "    box-shadow: 0 1px 2px rgba(60, 64, 67, 0.3), 0 1px 3px 1px rgba(60, 64, 67, 0.15);\n",
              "    fill: var(--button-hover-fill-color);\n",
              "  }\n",
              "\n",
              "  .colab-df-quickchart-complete:disabled,\n",
              "  .colab-df-quickchart-complete:disabled:hover {\n",
              "    background-color: var(--disabled-bg-color);\n",
              "    fill: var(--disabled-fill-color);\n",
              "    box-shadow: none;\n",
              "  }\n",
              "\n",
              "  .colab-df-spinner {\n",
              "    border: 2px solid var(--fill-color);\n",
              "    border-color: transparent;\n",
              "    border-bottom-color: var(--fill-color);\n",
              "    animation:\n",
              "      spin 1s steps(1) infinite;\n",
              "  }\n",
              "\n",
              "  @keyframes spin {\n",
              "    0% {\n",
              "      border-color: transparent;\n",
              "      border-bottom-color: var(--fill-color);\n",
              "      border-left-color: var(--fill-color);\n",
              "    }\n",
              "    20% {\n",
              "      border-color: transparent;\n",
              "      border-left-color: var(--fill-color);\n",
              "      border-top-color: var(--fill-color);\n",
              "    }\n",
              "    30% {\n",
              "      border-color: transparent;\n",
              "      border-left-color: var(--fill-color);\n",
              "      border-top-color: var(--fill-color);\n",
              "      border-right-color: var(--fill-color);\n",
              "    }\n",
              "    40% {\n",
              "      border-color: transparent;\n",
              "      border-right-color: var(--fill-color);\n",
              "      border-top-color: var(--fill-color);\n",
              "    }\n",
              "    60% {\n",
              "      border-color: transparent;\n",
              "      border-right-color: var(--fill-color);\n",
              "    }\n",
              "    80% {\n",
              "      border-color: transparent;\n",
              "      border-right-color: var(--fill-color);\n",
              "      border-bottom-color: var(--fill-color);\n",
              "    }\n",
              "    90% {\n",
              "      border-color: transparent;\n",
              "      border-bottom-color: var(--fill-color);\n",
              "    }\n",
              "  }\n",
              "</style>\n",
              "\n",
              "  <script>\n",
              "    async function quickchart(key) {\n",
              "      const quickchartButtonEl =\n",
              "        document.querySelector('#' + key + ' button');\n",
              "      quickchartButtonEl.disabled = true;  // To prevent multiple clicks.\n",
              "      quickchartButtonEl.classList.add('colab-df-spinner');\n",
              "      try {\n",
              "        const charts = await google.colab.kernel.invokeFunction(\n",
              "            'suggestCharts', [key], {});\n",
              "      } catch (error) {\n",
              "        console.error('Error during call to suggestCharts:', error);\n",
              "      }\n",
              "      quickchartButtonEl.classList.remove('colab-df-spinner');\n",
              "      quickchartButtonEl.classList.add('colab-df-quickchart-complete');\n",
              "    }\n",
              "    (() => {\n",
              "      let quickchartButtonEl =\n",
              "        document.querySelector('#df-4207f9f9-8d8d-4ddc-b249-eb93e6de3258 button');\n",
              "      quickchartButtonEl.style.display =\n",
              "        google.colab.kernel.accessAllowed ? 'block' : 'none';\n",
              "    })();\n",
              "  </script>\n",
              "</div>\n",
              "\n",
              "    </div>\n",
              "  </div>\n"
            ],
            "application/vnd.google.colaboratory.intrinsic+json": {
              "type": "dataframe",
              "variable_name": "dataset",
              "summary": "{\n  \"name\": \"dataset\",\n  \"rows\": 20,\n  \"fields\": [\n    {\n      \"column\": \"Student_ID\",\n      \"properties\": {\n        \"dtype\": \"number\",\n        \"std\": 5,\n        \"min\": 1,\n        \"max\": 20,\n        \"num_unique_values\": 20,\n        \"samples\": [\n          1,\n          18,\n          16\n        ],\n        \"semantic_type\": \"\",\n        \"description\": \"\"\n      }\n    },\n    {\n      \"column\": \"Physics\",\n      \"properties\": {\n        \"dtype\": \"number\",\n        \"std\": 24.127656140820502,\n        \"min\": 9.0,\n        \"max\": 92.0,\n        \"num_unique_values\": 17,\n        \"samples\": [\n          63.0,\n          52.0,\n          65.0\n        ],\n        \"semantic_type\": \"\",\n        \"description\": \"\"\n      }\n    },\n    {\n      \"column\": \"Chemistry\",\n      \"properties\": {\n        \"dtype\": \"number\",\n        \"std\": 25,\n        \"min\": 2,\n        \"max\": 98,\n        \"num_unique_values\": 19,\n        \"samples\": [\n          37,\n          38,\n          36\n        ],\n        \"semantic_type\": \"\",\n        \"description\": \"\"\n      }\n    },\n    {\n      \"column\": \"Math\",\n      \"properties\": {\n        \"dtype\": \"number\",\n        \"std\": 31.912513168536666,\n        \"min\": 1.0,\n        \"max\": 94.0,\n        \"num_unique_values\": 17,\n        \"samples\": [\n          85.0,\n          34.0,\n          26.0\n        ],\n        \"semantic_type\": \"\",\n        \"description\": \"\"\n      }\n    },\n    {\n      \"column\": \"Bilogy\",\n      \"properties\": {\n        \"dtype\": \"number\",\n        \"std\": 30.991509873036616,\n        \"min\": 2.0,\n        \"max\": 94.0,\n        \"num_unique_values\": 17,\n        \"samples\": [\n          94.0,\n          24.0,\n          2.0\n        ],\n        \"semantic_type\": \"\",\n        \"description\": \"\"\n      }\n    }\n  ]\n}"
            }
          },
          "metadata": {},
          "execution_count": 98
        }
      ],
      "source": [
        "#2. Show the first few rows of the DataFrame to get an idea of the whole dataset.\n",
        "dataset.head(5)"
      ]
    },
    {
      "cell_type": "code",
      "execution_count": 101,
      "metadata": {
        "colab": {
          "base_uri": "https://localhost:8080/",
          "height": 300
        },
        "id": "U9G8GMtIB2bk",
        "outputId": "b48b8188-ab37-4e0b-c696-a07295c000eb"
      },
      "outputs": [
        {
          "output_type": "execute_result",
          "data": {
            "text/plain": [
              "       Student_ID    Physics  Chemistry       Math     Bilogy\n",
              "count    20.00000  18.000000  20.000000  18.000000  19.000000\n",
              "mean     10.50000  47.555556  40.450000  41.944444  34.842105\n",
              "std       5.91608  24.127656  25.750779  31.912513  30.991510\n",
              "min       1.00000   9.000000   2.000000   1.000000   2.000000\n",
              "25%       5.75000  23.750000  24.500000  14.000000   9.000000\n",
              "50%      10.50000  50.500000  36.500000  35.000000  28.000000\n",
              "75%      15.25000  64.500000  55.500000  73.750000  45.500000\n",
              "max      20.00000  92.000000  98.000000  94.000000  94.000000"
            ],
            "text/html": [
              "\n",
              "  <div id=\"df-fe3120c9-a10e-4a25-968c-f01187e3db63\" class=\"colab-df-container\">\n",
              "    <div>\n",
              "<style scoped>\n",
              "    .dataframe tbody tr th:only-of-type {\n",
              "        vertical-align: middle;\n",
              "    }\n",
              "\n",
              "    .dataframe tbody tr th {\n",
              "        vertical-align: top;\n",
              "    }\n",
              "\n",
              "    .dataframe thead th {\n",
              "        text-align: right;\n",
              "    }\n",
              "</style>\n",
              "<table border=\"1\" class=\"dataframe\">\n",
              "  <thead>\n",
              "    <tr style=\"text-align: right;\">\n",
              "      <th></th>\n",
              "      <th>Student_ID</th>\n",
              "      <th>Physics</th>\n",
              "      <th>Chemistry</th>\n",
              "      <th>Math</th>\n",
              "      <th>Bilogy</th>\n",
              "    </tr>\n",
              "  </thead>\n",
              "  <tbody>\n",
              "    <tr>\n",
              "      <th>count</th>\n",
              "      <td>20.00000</td>\n",
              "      <td>18.000000</td>\n",
              "      <td>20.000000</td>\n",
              "      <td>18.000000</td>\n",
              "      <td>19.000000</td>\n",
              "    </tr>\n",
              "    <tr>\n",
              "      <th>mean</th>\n",
              "      <td>10.50000</td>\n",
              "      <td>47.555556</td>\n",
              "      <td>40.450000</td>\n",
              "      <td>41.944444</td>\n",
              "      <td>34.842105</td>\n",
              "    </tr>\n",
              "    <tr>\n",
              "      <th>std</th>\n",
              "      <td>5.91608</td>\n",
              "      <td>24.127656</td>\n",
              "      <td>25.750779</td>\n",
              "      <td>31.912513</td>\n",
              "      <td>30.991510</td>\n",
              "    </tr>\n",
              "    <tr>\n",
              "      <th>min</th>\n",
              "      <td>1.00000</td>\n",
              "      <td>9.000000</td>\n",
              "      <td>2.000000</td>\n",
              "      <td>1.000000</td>\n",
              "      <td>2.000000</td>\n",
              "    </tr>\n",
              "    <tr>\n",
              "      <th>25%</th>\n",
              "      <td>5.75000</td>\n",
              "      <td>23.750000</td>\n",
              "      <td>24.500000</td>\n",
              "      <td>14.000000</td>\n",
              "      <td>9.000000</td>\n",
              "    </tr>\n",
              "    <tr>\n",
              "      <th>50%</th>\n",
              "      <td>10.50000</td>\n",
              "      <td>50.500000</td>\n",
              "      <td>36.500000</td>\n",
              "      <td>35.000000</td>\n",
              "      <td>28.000000</td>\n",
              "    </tr>\n",
              "    <tr>\n",
              "      <th>75%</th>\n",
              "      <td>15.25000</td>\n",
              "      <td>64.500000</td>\n",
              "      <td>55.500000</td>\n",
              "      <td>73.750000</td>\n",
              "      <td>45.500000</td>\n",
              "    </tr>\n",
              "    <tr>\n",
              "      <th>max</th>\n",
              "      <td>20.00000</td>\n",
              "      <td>92.000000</td>\n",
              "      <td>98.000000</td>\n",
              "      <td>94.000000</td>\n",
              "      <td>94.000000</td>\n",
              "    </tr>\n",
              "  </tbody>\n",
              "</table>\n",
              "</div>\n",
              "    <div class=\"colab-df-buttons\">\n",
              "\n",
              "  <div class=\"colab-df-container\">\n",
              "    <button class=\"colab-df-convert\" onclick=\"convertToInteractive('df-fe3120c9-a10e-4a25-968c-f01187e3db63')\"\n",
              "            title=\"Convert this dataframe to an interactive table.\"\n",
              "            style=\"display:none;\">\n",
              "\n",
              "  <svg xmlns=\"http://www.w3.org/2000/svg\" height=\"24px\" viewBox=\"0 -960 960 960\">\n",
              "    <path d=\"M120-120v-720h720v720H120Zm60-500h600v-160H180v160Zm220 220h160v-160H400v160Zm0 220h160v-160H400v160ZM180-400h160v-160H180v160Zm440 0h160v-160H620v160ZM180-180h160v-160H180v160Zm440 0h160v-160H620v160Z\"/>\n",
              "  </svg>\n",
              "    </button>\n",
              "\n",
              "  <style>\n",
              "    .colab-df-container {\n",
              "      display:flex;\n",
              "      gap: 12px;\n",
              "    }\n",
              "\n",
              "    .colab-df-convert {\n",
              "      background-color: #E8F0FE;\n",
              "      border: none;\n",
              "      border-radius: 50%;\n",
              "      cursor: pointer;\n",
              "      display: none;\n",
              "      fill: #1967D2;\n",
              "      height: 32px;\n",
              "      padding: 0 0 0 0;\n",
              "      width: 32px;\n",
              "    }\n",
              "\n",
              "    .colab-df-convert:hover {\n",
              "      background-color: #E2EBFA;\n",
              "      box-shadow: 0px 1px 2px rgba(60, 64, 67, 0.3), 0px 1px 3px 1px rgba(60, 64, 67, 0.15);\n",
              "      fill: #174EA6;\n",
              "    }\n",
              "\n",
              "    .colab-df-buttons div {\n",
              "      margin-bottom: 4px;\n",
              "    }\n",
              "\n",
              "    [theme=dark] .colab-df-convert {\n",
              "      background-color: #3B4455;\n",
              "      fill: #D2E3FC;\n",
              "    }\n",
              "\n",
              "    [theme=dark] .colab-df-convert:hover {\n",
              "      background-color: #434B5C;\n",
              "      box-shadow: 0px 1px 3px 1px rgba(0, 0, 0, 0.15);\n",
              "      filter: drop-shadow(0px 1px 2px rgba(0, 0, 0, 0.3));\n",
              "      fill: #FFFFFF;\n",
              "    }\n",
              "  </style>\n",
              "\n",
              "    <script>\n",
              "      const buttonEl =\n",
              "        document.querySelector('#df-fe3120c9-a10e-4a25-968c-f01187e3db63 button.colab-df-convert');\n",
              "      buttonEl.style.display =\n",
              "        google.colab.kernel.accessAllowed ? 'block' : 'none';\n",
              "\n",
              "      async function convertToInteractive(key) {\n",
              "        const element = document.querySelector('#df-fe3120c9-a10e-4a25-968c-f01187e3db63');\n",
              "        const dataTable =\n",
              "          await google.colab.kernel.invokeFunction('convertToInteractive',\n",
              "                                                    [key], {});\n",
              "        if (!dataTable) return;\n",
              "\n",
              "        const docLinkHtml = 'Like what you see? Visit the ' +\n",
              "          '<a target=\"_blank\" href=https://colab.research.google.com/notebooks/data_table.ipynb>data table notebook</a>'\n",
              "          + ' to learn more about interactive tables.';\n",
              "        element.innerHTML = '';\n",
              "        dataTable['output_type'] = 'display_data';\n",
              "        await google.colab.output.renderOutput(dataTable, element);\n",
              "        const docLink = document.createElement('div');\n",
              "        docLink.innerHTML = docLinkHtml;\n",
              "        element.appendChild(docLink);\n",
              "      }\n",
              "    </script>\n",
              "  </div>\n",
              "\n",
              "\n",
              "<div id=\"df-7a41061b-dba2-4ef6-bb80-54911e4909eb\">\n",
              "  <button class=\"colab-df-quickchart\" onclick=\"quickchart('df-7a41061b-dba2-4ef6-bb80-54911e4909eb')\"\n",
              "            title=\"Suggest charts\"\n",
              "            style=\"display:none;\">\n",
              "\n",
              "<svg xmlns=\"http://www.w3.org/2000/svg\" height=\"24px\"viewBox=\"0 0 24 24\"\n",
              "     width=\"24px\">\n",
              "    <g>\n",
              "        <path d=\"M19 3H5c-1.1 0-2 .9-2 2v14c0 1.1.9 2 2 2h14c1.1 0 2-.9 2-2V5c0-1.1-.9-2-2-2zM9 17H7v-7h2v7zm4 0h-2V7h2v10zm4 0h-2v-4h2v4z\"/>\n",
              "    </g>\n",
              "</svg>\n",
              "  </button>\n",
              "\n",
              "<style>\n",
              "  .colab-df-quickchart {\n",
              "      --bg-color: #E8F0FE;\n",
              "      --fill-color: #1967D2;\n",
              "      --hover-bg-color: #E2EBFA;\n",
              "      --hover-fill-color: #174EA6;\n",
              "      --disabled-fill-color: #AAA;\n",
              "      --disabled-bg-color: #DDD;\n",
              "  }\n",
              "\n",
              "  [theme=dark] .colab-df-quickchart {\n",
              "      --bg-color: #3B4455;\n",
              "      --fill-color: #D2E3FC;\n",
              "      --hover-bg-color: #434B5C;\n",
              "      --hover-fill-color: #FFFFFF;\n",
              "      --disabled-bg-color: #3B4455;\n",
              "      --disabled-fill-color: #666;\n",
              "  }\n",
              "\n",
              "  .colab-df-quickchart {\n",
              "    background-color: var(--bg-color);\n",
              "    border: none;\n",
              "    border-radius: 50%;\n",
              "    cursor: pointer;\n",
              "    display: none;\n",
              "    fill: var(--fill-color);\n",
              "    height: 32px;\n",
              "    padding: 0;\n",
              "    width: 32px;\n",
              "  }\n",
              "\n",
              "  .colab-df-quickchart:hover {\n",
              "    background-color: var(--hover-bg-color);\n",
              "    box-shadow: 0 1px 2px rgba(60, 64, 67, 0.3), 0 1px 3px 1px rgba(60, 64, 67, 0.15);\n",
              "    fill: var(--button-hover-fill-color);\n",
              "  }\n",
              "\n",
              "  .colab-df-quickchart-complete:disabled,\n",
              "  .colab-df-quickchart-complete:disabled:hover {\n",
              "    background-color: var(--disabled-bg-color);\n",
              "    fill: var(--disabled-fill-color);\n",
              "    box-shadow: none;\n",
              "  }\n",
              "\n",
              "  .colab-df-spinner {\n",
              "    border: 2px solid var(--fill-color);\n",
              "    border-color: transparent;\n",
              "    border-bottom-color: var(--fill-color);\n",
              "    animation:\n",
              "      spin 1s steps(1) infinite;\n",
              "  }\n",
              "\n",
              "  @keyframes spin {\n",
              "    0% {\n",
              "      border-color: transparent;\n",
              "      border-bottom-color: var(--fill-color);\n",
              "      border-left-color: var(--fill-color);\n",
              "    }\n",
              "    20% {\n",
              "      border-color: transparent;\n",
              "      border-left-color: var(--fill-color);\n",
              "      border-top-color: var(--fill-color);\n",
              "    }\n",
              "    30% {\n",
              "      border-color: transparent;\n",
              "      border-left-color: var(--fill-color);\n",
              "      border-top-color: var(--fill-color);\n",
              "      border-right-color: var(--fill-color);\n",
              "    }\n",
              "    40% {\n",
              "      border-color: transparent;\n",
              "      border-right-color: var(--fill-color);\n",
              "      border-top-color: var(--fill-color);\n",
              "    }\n",
              "    60% {\n",
              "      border-color: transparent;\n",
              "      border-right-color: var(--fill-color);\n",
              "    }\n",
              "    80% {\n",
              "      border-color: transparent;\n",
              "      border-right-color: var(--fill-color);\n",
              "      border-bottom-color: var(--fill-color);\n",
              "    }\n",
              "    90% {\n",
              "      border-color: transparent;\n",
              "      border-bottom-color: var(--fill-color);\n",
              "    }\n",
              "  }\n",
              "</style>\n",
              "\n",
              "  <script>\n",
              "    async function quickchart(key) {\n",
              "      const quickchartButtonEl =\n",
              "        document.querySelector('#' + key + ' button');\n",
              "      quickchartButtonEl.disabled = true;  // To prevent multiple clicks.\n",
              "      quickchartButtonEl.classList.add('colab-df-spinner');\n",
              "      try {\n",
              "        const charts = await google.colab.kernel.invokeFunction(\n",
              "            'suggestCharts', [key], {});\n",
              "      } catch (error) {\n",
              "        console.error('Error during call to suggestCharts:', error);\n",
              "      }\n",
              "      quickchartButtonEl.classList.remove('colab-df-spinner');\n",
              "      quickchartButtonEl.classList.add('colab-df-quickchart-complete');\n",
              "    }\n",
              "    (() => {\n",
              "      let quickchartButtonEl =\n",
              "        document.querySelector('#df-7a41061b-dba2-4ef6-bb80-54911e4909eb button');\n",
              "      quickchartButtonEl.style.display =\n",
              "        google.colab.kernel.accessAllowed ? 'block' : 'none';\n",
              "    })();\n",
              "  </script>\n",
              "</div>\n",
              "\n",
              "    </div>\n",
              "  </div>\n"
            ],
            "application/vnd.google.colaboratory.intrinsic+json": {
              "type": "dataframe",
              "summary": "{\n  \"name\": \"dataset\",\n  \"rows\": 8,\n  \"fields\": [\n    {\n      \"column\": \"Student_ID\",\n      \"properties\": {\n        \"dtype\": \"number\",\n        \"std\": 6.906170579382335,\n        \"min\": 1.0,\n        \"max\": 20.0,\n        \"num_unique_values\": 6,\n        \"samples\": [\n          20.0,\n          10.5,\n          15.25\n        ],\n        \"semantic_type\": \"\",\n        \"description\": \"\"\n      }\n    },\n    {\n      \"column\": \"Physics\",\n      \"properties\": {\n        \"dtype\": \"number\",\n        \"std\": 27.829729822551634,\n        \"min\": 9.0,\n        \"max\": 92.0,\n        \"num_unique_values\": 8,\n        \"samples\": [\n          47.55555555555556,\n          50.5,\n          18.0\n        ],\n        \"semantic_type\": \"\",\n        \"description\": \"\"\n      }\n    },\n    {\n      \"column\": \"Chemistry\",\n      \"properties\": {\n        \"dtype\": \"number\",\n        \"std\": 28.94967286356462,\n        \"min\": 2.0,\n        \"max\": 98.0,\n        \"num_unique_values\": 8,\n        \"samples\": [\n          40.45,\n          36.5,\n          20.0\n        ],\n        \"semantic_type\": \"\",\n        \"description\": \"\"\n      }\n    },\n    {\n      \"column\": \"Math\",\n      \"properties\": {\n        \"dtype\": \"number\",\n        \"std\": 31.206109500703604,\n        \"min\": 1.0,\n        \"max\": 94.0,\n        \"num_unique_values\": 8,\n        \"samples\": [\n          41.94444444444444,\n          35.0,\n          18.0\n        ],\n        \"semantic_type\": \"\",\n        \"description\": \"\"\n      }\n    },\n    {\n      \"column\": \"Bilogy\",\n      \"properties\": {\n        \"dtype\": \"number\",\n        \"std\": 28.391703707225876,\n        \"min\": 2.0,\n        \"max\": 94.0,\n        \"num_unique_values\": 8,\n        \"samples\": [\n          34.8421052631579,\n          28.0,\n          19.0\n        ],\n        \"semantic_type\": \"\",\n        \"description\": \"\"\n      }\n    }\n  ]\n}"
            }
          },
          "metadata": {},
          "execution_count": 101
        }
      ],
      "source": [
        "#3. Show the summarized details of the dataset.\n",
        "dataset.describe()"
      ]
    },
    {
      "cell_type": "code",
      "execution_count": 102,
      "metadata": {
        "colab": {
          "base_uri": "https://localhost:8080/",
          "height": 241
        },
        "id": "Ey1ddE6ECBuE",
        "outputId": "8e818045-b722-4a5a-e5cf-585ee301f195"
      },
      "outputs": [
        {
          "output_type": "execute_result",
          "data": {
            "text/plain": [
              "Student_ID    0\n",
              "Physics       2\n",
              "Chemistry     0\n",
              "Math          2\n",
              "Bilogy        1\n",
              "dtype: int64"
            ],
            "text/html": [
              "<div>\n",
              "<style scoped>\n",
              "    .dataframe tbody tr th:only-of-type {\n",
              "        vertical-align: middle;\n",
              "    }\n",
              "\n",
              "    .dataframe tbody tr th {\n",
              "        vertical-align: top;\n",
              "    }\n",
              "\n",
              "    .dataframe thead th {\n",
              "        text-align: right;\n",
              "    }\n",
              "</style>\n",
              "<table border=\"1\" class=\"dataframe\">\n",
              "  <thead>\n",
              "    <tr style=\"text-align: right;\">\n",
              "      <th></th>\n",
              "      <th>0</th>\n",
              "    </tr>\n",
              "  </thead>\n",
              "  <tbody>\n",
              "    <tr>\n",
              "      <th>Student_ID</th>\n",
              "      <td>0</td>\n",
              "    </tr>\n",
              "    <tr>\n",
              "      <th>Physics</th>\n",
              "      <td>2</td>\n",
              "    </tr>\n",
              "    <tr>\n",
              "      <th>Chemistry</th>\n",
              "      <td>0</td>\n",
              "    </tr>\n",
              "    <tr>\n",
              "      <th>Math</th>\n",
              "      <td>2</td>\n",
              "    </tr>\n",
              "    <tr>\n",
              "      <th>Bilogy</th>\n",
              "      <td>1</td>\n",
              "    </tr>\n",
              "  </tbody>\n",
              "</table>\n",
              "</div><br><label><b>dtype:</b> int64</label>"
            ]
          },
          "metadata": {},
          "execution_count": 102
        }
      ],
      "source": [
        "#4. Show how many null values we have in each column.\n",
        "dataset.isnull().sum()"
      ]
    },
    {
      "cell_type": "code",
      "execution_count": 103,
      "metadata": {
        "colab": {
          "base_uri": "https://localhost:8080/",
          "height": 241
        },
        "id": "2KKnKdIUCJ3-",
        "outputId": "683d6a84-bc52-4821-90f2-f43de409c9f2"
      },
      "outputs": [
        {
          "output_type": "execute_result",
          "data": {
            "text/plain": [
              "Student_ID    0\n",
              "Physics       0\n",
              "Chemistry     0\n",
              "Math          0\n",
              "Bilogy        0\n",
              "dtype: int64"
            ],
            "text/html": [
              "<div>\n",
              "<style scoped>\n",
              "    .dataframe tbody tr th:only-of-type {\n",
              "        vertical-align: middle;\n",
              "    }\n",
              "\n",
              "    .dataframe tbody tr th {\n",
              "        vertical-align: top;\n",
              "    }\n",
              "\n",
              "    .dataframe thead th {\n",
              "        text-align: right;\n",
              "    }\n",
              "</style>\n",
              "<table border=\"1\" class=\"dataframe\">\n",
              "  <thead>\n",
              "    <tr style=\"text-align: right;\">\n",
              "      <th></th>\n",
              "      <th>0</th>\n",
              "    </tr>\n",
              "  </thead>\n",
              "  <tbody>\n",
              "    <tr>\n",
              "      <th>Student_ID</th>\n",
              "      <td>0</td>\n",
              "    </tr>\n",
              "    <tr>\n",
              "      <th>Physics</th>\n",
              "      <td>0</td>\n",
              "    </tr>\n",
              "    <tr>\n",
              "      <th>Chemistry</th>\n",
              "      <td>0</td>\n",
              "    </tr>\n",
              "    <tr>\n",
              "      <th>Math</th>\n",
              "      <td>0</td>\n",
              "    </tr>\n",
              "    <tr>\n",
              "      <th>Bilogy</th>\n",
              "      <td>0</td>\n",
              "    </tr>\n",
              "  </tbody>\n",
              "</table>\n",
              "</div><br><label><b>dtype:</b> int64</label>"
            ]
          },
          "metadata": {},
          "execution_count": 103
        }
      ],
      "source": [
        "#5. Replace any column’s null values with the mean value of that particular column.\n",
        "dataset.fillna(dataset.mean(numeric_only=True), inplace=True)\n",
        "dataset.isnull().sum()"
      ]
    },
    {
      "cell_type": "code",
      "execution_count": 104,
      "metadata": {
        "colab": {
          "base_uri": "https://localhost:8080/"
        },
        "id": "5mR4EIX4Ccq6",
        "outputId": "f147f1ab-57d3-4423-e8a4-947de9be00c7"
      },
      "outputs": [
        {
          "output_type": "stream",
          "name": "stdout",
          "text": [
            "Math scores of all the students:\n",
            "0     85.000000\n",
            "1     34.000000\n",
            "2      2.000000\n",
            "3      5.000000\n",
            "4      1.000000\n",
            "5     26.000000\n",
            "6     45.000000\n",
            "7     41.944444\n",
            "8     38.000000\n",
            "9     10.000000\n",
            "10     4.000000\n",
            "11    33.000000\n",
            "12    74.000000\n",
            "13    33.000000\n",
            "14    73.000000\n",
            "15    94.000000\n",
            "16    41.944444\n",
            "17    36.000000\n",
            "18    75.000000\n",
            "19    87.000000\n",
            "Name: Math, dtype: float64\n"
          ]
        }
      ],
      "source": [
        "#6. Show only the Math scores of all the students.\n",
        "print(\"Math scores of all the students:\")\n",
        "print(dataset['Math'])"
      ]
    },
    {
      "cell_type": "markdown",
      "metadata": {
        "id": "qI5tfPHDDa6I"
      },
      "source": [
        "# **Use Matplotlib library to complete the following tasks:**"
      ]
    },
    {
      "cell_type": "code",
      "execution_count": 106,
      "metadata": {
        "id": "4Ge8iIvOeJOX"
      },
      "outputs": [],
      "source": [
        "temperature_dhaka = [25,34,21,45,28,6,43,18,7,2]\n",
        "humidity_dhaka = [28, 25,29,20, 26, 50, 19, 29, 52, 55]"
      ]
    },
    {
      "cell_type": "code",
      "execution_count": 107,
      "metadata": {
        "colab": {
          "base_uri": "https://localhost:8080/",
          "height": 472
        },
        "id": "sBjZstmTDZ1x",
        "outputId": "aa57d572-3fc5-4c1a-fbc5-beb946435485"
      },
      "outputs": [
        {
          "output_type": "display_data",
          "data": {
            "text/plain": [
              "<Figure size 640x480 with 1 Axes>"
            ],
            "image/png": "[encoded data removed]"
          },
          "metadata": {}
        }
      ],
      "source": [
        "#1. Generate a scatter plot graph for temperature_dhaka vs humidity_dhaka using (*) as the marker in color red.\n",
        "plt.scatter(temperature_dhaka, humidity_dhaka, color='red', marker='*')\n",
        "plt.title(\"Temperature vs Humidity\")\n",
        "plt.xlabel(\"Temperature (°C)\")\n",
        "plt.ylabel(\"Humidity (%)\")\n",
        "plt.show()\n"
      ]
    },
    {
      "cell_type": "code",
      "execution_count": 108,
      "metadata": {
        "id": "kc0X6NZ_eO_K"
      },
      "outputs": [],
      "source": [
        "study_hours = [2,3,4,4, 5, 6, 7, 7, 8, 9, 9, 10, 11, 11, 12]\n",
        "marks = [6, 10, 15, 20, 34, 44, 55, 60, 55, 67, 70, 80, 90, 99, 100]"
      ]
    },
    {
      "cell_type": "code",
      "execution_count": 109,
      "metadata": {
        "colab": {
          "base_uri": "https://localhost:8080/",
          "height": 718
        },
        "id": "wFzX07B9cwjM",
        "outputId": "b38d685f-211d-432b-d18a-7a1b962eaeb5"
      },
      "outputs": [
        {
          "output_type": "display_data",
          "data": {
            "text/plain": [
              "<Figure size 1200x800 with 1 Axes>"
            ],
            "image/png": "[encoded data removed]"
          },
          "metadata": {}
        }
      ],
      "source": [
        "#2. Now do a line plot for study_hours vs marks with figure size (12,8)\n",
        "plt.figure(figsize=(12, 8))\n",
        "plt.plot(study_hours, marks, marker='o', linestyle='-', color='blue', linewidth=2, markersize=8)\n",
        "plt.xlabel(\"Study Hours\")\n",
        "plt.ylabel(\"Marks\")\n",
        "plt.title(\"Study Hours vs Marks\")\n",
        "plt.show()"
      ]
    },
    {
      "cell_type": "code",
      "execution_count": 110,
      "metadata": {
        "id": "48jlF51Ae9Is"
      },
      "outputs": [],
      "source": [
        "subjects = ['Maths', 'English', 'Science', 'Physics', 'Computer']\n",
        "marks = [89, 90, 45, 78, 99]"
      ]
    },
    {
      "cell_type": "code",
      "execution_count": 111,
      "metadata": {
        "colab": {
          "base_uri": "https://localhost:8080/",
          "height": 564
        },
        "id": "eOYPY1G7fDTU",
        "outputId": "b548ea6c-5be9-4625-fc2c-3b09046c8d88"
      },
      "outputs": [
        {
          "output_type": "display_data",
          "data": {
            "text/plain": [
              "<Figure size 1000x600 with 1 Axes>"
            ],
            "image/png": "[encoded data removed]"
          },
          "metadata": {}
        }
      ],
      "source": [
        "#3. Now draw a horizontal bar graph showing the scores in each of the subjects.\n",
        "plt.figure(figsize=(10, 6))\n",
        "plt.barh(subjects, marks, color='blue')\n",
        "plt.xlabel(\"Marks\")\n",
        "plt.ylabel(\"Subjects\")\n",
        "plt.title(\"Scores in Each Subject\")\n",
        "plt.show()"
      ]
    },
    {
      "cell_type": "code",
      "execution_count": 112,
      "metadata": {
        "colab": {
          "base_uri": "https://localhost:8080/",
          "height": 472
        },
        "id": "CT60aK2Qkkn3",
        "outputId": "0b100337-0997-4b03-937a-5a4996ae56e4"
      },
      "outputs": [
        {
          "output_type": "display_data",
          "data": {
            "text/plain": [
              "<Figure size 640x480 with 1 Axes>"
            ],
            "image/png": "[encoded data removed]"
          },
          "metadata": {}
        }
      ],
      "source": [
        "#4. Draw a vertical bar graph where each subject score is visualized in different colors.\n",
        "colors = ['pink', 'blue', 'green', 'brown', 'orange']\n",
        "plt.bar(subjects, marks, color=colors)\n",
        "plt.xlabel(\"Subjects\")\n",
        "plt.ylabel(\"Marks\")\n",
        "plt.title(\"Scores in Each Subject\")\n",
        "plt.show()"
      ]
    },
    {
      "cell_type": "code",
      "execution_count": 116,
      "metadata": {
        "colab": {
          "base_uri": "https://localhost:8080/",
          "height": 799
        },
        "id": "e49mCHUWlalA",
        "outputId": "23cb27ae-841b-4ba4-cd4a-6229811aff81"
      },
      "outputs": [
        {
          "output_type": "display_data",
          "data": {
            "text/plain": [
              "<Figure size 1200x800 with 4 Axes>"
            ],
            "image/png": "[encoded data removed]"
          },
          "metadata": {}
        }
      ],
      "source": [
        "#5. Show all these graphs in one graph using subplot( ) function.\n",
        "\n",
        "temperature_dhaka = [25, 34, 21, 45, 28, 6, 43, 18, 7, 2]\n",
        "humidity_dhaka = [28, 25, 29, 20, 26, 50, 19, 29, 52, 55]\n",
        "study_hours = [2, 3, 4, 4, 5, 6, 7, 7, 8, 9, 9, 10, 11, 11, 12]\n",
        "marks_study = [6, 10, 15, 20, 34, 44, 55, 60, 55, 67, 70, 80, 90, 99, 100]    # The 'marks' variable given under the 'study_hours' variable.\n",
        "subjects = ['Maths', 'English', 'Science', 'Physics', 'Computer']\n",
        "marks_subjects = [89, 90, 45, 78, 99]   # The 'marks' variable given under the 'subjects' variable.\n",
        "\n",
        "colors = ['pink', 'blue', 'green', 'brown', 'orange']\n",
        "\n",
        "plt.figure(figsize=(12, 8))\n",
        "\n",
        "# Subplot 1: Scatter plot (Temperature vs Humidity)\n",
        "plt.subplot(2, 2, 1)\n",
        "plt.scatter(temperature_dhaka, humidity_dhaka, color='red', marker='*')\n",
        "plt.xlabel(\"Temperature (°C)\")\n",
        "plt.ylabel(\"Humidity (%)\")\n",
        "plt.title(\"Temperature vs Humidity (Dhaka)\")\n",
        "\n",
        "# Subplot 2: Line plot (Study Hours vs Marks)\n",
        "plt.subplot(2, 2, 2)\n",
        "plt.plot(study_hours, marks_study, marker='o', linestyle='-', color='blue', linewidth=2, markersize=8)\n",
        "plt.xlabel(\"Study Hours\")\n",
        "plt.ylabel(\"Marks\")\n",
        "plt.title(\"Study Hours vs Marks\")\n",
        "\n",
        "# Subplot 3: Horizontal Bar graph (Subject-wise Marks)\n",
        "plt.subplot(2, 2, 3)\n",
        "plt.barh(subjects, marks_subjects, color='blue')\n",
        "plt.xlabel(\"Marks\")\n",
        "plt.ylabel(\"Subjects\")\n",
        "plt.title(\"Scores in each subject (Horizontal)\")\n",
        "\n",
        "# Subplot 4: Vertical Bar graph (Subject-wise Marks)\n",
        "plt.subplot(2, 2, 4)\n",
        "plt.bar(subjects, marks_subjects, color=colors)\n",
        "plt.xlabel(\"Subjects\")\n",
        "plt.ylabel(\"Marks\")\n",
        "plt.title(\"Scores in each subject (Vertical)\")\n",
        "\n",
        "plt.tight_layout()\n",
        "plt.show()"
      ]
    }
  ],
  "metadata": {
    "colab": {
      "provenance": []
    },
    "kernelspec": {
      "display_name": "Python 3",
      "name": "python3"
    },
    "language_info": {
      "name": "python"
    }
  },
  "nbformat": 4,
  "nbformat_minor": 0
}